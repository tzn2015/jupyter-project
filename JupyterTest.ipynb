{
 "cells": [
  {
   "cell_type": "code",
   "execution_count": null,
   "metadata": {},
   "outputs": [],
   "source": [
    "# -*- coding: utf-8 -*-"
   ]
  },
  {
   "cell_type": "code",
   "execution_count": 1,
   "metadata": {},
   "outputs": [],
   "source": [
    "#ドライバを開く\n",
    "from selenium import webdriver\n",
    "driver = webdriver.Firefox()"
   ]
  },
  {
   "cell_type": "markdown",
   "metadata": {},
   "source": [
    "# A1 TOP"
   ]
  },
  {
   "cell_type": "code",
   "execution_count": 2,
   "metadata": {},
   "outputs": [],
   "source": [
    "#URLへ移動\n",
    "URL = \"https://www.comnet-fukuoka.jp/sousa.html\"\n",
    "driver.get(URL)\n",
    "\n",
    "#クリック\n",
    "xpath = \"/html/body/table[3]/tbody/tr/td[2]/table[4]/tbody/tr/td[2]/a\"\n",
    "elem = driver.find_element_by_xpath(xpath)\n",
    "elem.click()"
   ]
  },
  {
   "cell_type": "code",
   "execution_count": 3,
   "metadata": {},
   "outputs": [],
   "source": [
    "#テキスト入力\n",
    "xpath = \"/html/body/div[2]/center/form/table[5]/tbody/tr[2]/td/table/tbody/tr[2]/td[2]/table/tbody/tr[1]/td[1]/table/tbody/tr[1]/td[2]/input\"\n",
    "elem = driver.find_element_by_xpath(xpath)\n",
    "keyText = \"40571850\"\n",
    "elem.clear()\n",
    "elem.send_keys(keyText)\n",
    "\n",
    "#テキスト入力\n",
    "xpath = \"/html/body/div[2]/center/form/table[5]/tbody/tr[2]/td/table/tbody/tr[2]/td[2]/table/tbody/tr[1]/td[1]/table/tbody/tr[2]/td[2]/input\"\n",
    "elem = driver.find_element_by_xpath(xpath)\n",
    "keyText = \"4637\"\n",
    "elem.clear()\n",
    "elem.send_keys(keyText)\n",
    "\n",
    "#クリック\n",
    "xpath = \"/html/body/div[2]/center/form/table[5]/tbody/tr[2]/td/table/tbody/tr[2]/td[2]/table/tbody/tr[2]/td/a[1]\"\n",
    "elem = driver.find_element_by_xpath(xpath)\n",
    "elem.click()"
   ]
  },
  {
   "cell_type": "code",
   "execution_count": 249,
   "metadata": {},
   "outputs": [],
   "source": [
    "#ドライバを閉じる\n",
    "driver.quit()"
   ]
  }
 ],
 "metadata": {
  "kernelspec": {
   "display_name": "Python 3",
   "language": "python",
   "name": "python3"
  },
  "language_info": {
   "codemirror_mode": {
    "name": "ipython",
    "version": 3
   },
   "file_extension": ".py",
   "mimetype": "text/x-python",
   "name": "python",
   "nbconvert_exporter": "python",
   "pygments_lexer": "ipython3",
   "version": "3.6.0"
  }
 },
 "nbformat": 4,
 "nbformat_minor": 2
}
